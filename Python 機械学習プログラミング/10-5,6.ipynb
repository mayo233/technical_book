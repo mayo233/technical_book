{
 "cells": [
  {
   "cell_type": "code",
   "execution_count": 3,
   "id": "30abced9",
   "metadata": {},
   "outputs": [],
   "source": [
    "#データの読み込み\n",
    "import pandas as pd\n",
    "\n",
    "df=pd.read_csv('https://raw.githubusercontent.com/rasbt/'\n",
    "                        'python-machine-learning-book-3rd-edition'\n",
    "                        '/master/ch10/housing.data.txt',  header=None,  sep='\\s+')\n",
    "df.columns= ['CRIM', 'ZN', 'INDUS', 'CHAS',\n",
    "              'NOX', 'RM', 'AGE', 'DIS', 'RAD',\n",
    "              'TAX', 'PTRATIO', 'B', 'LSTAT', 'MEDV']\n"
   ]
  },
  {
   "cell_type": "markdown",
   "id": "5a10d38f",
   "metadata": {},
   "source": [
    "# 10.5 線形回帰モデルの性能評価"
   ]
  },
  {
   "cell_type": "code",
   "execution_count": 40,
   "id": "4a914ad3",
   "metadata": {},
   "outputs": [],
   "source": [
    "#データセットの変数を全て使って重回帰モデルを訓練する\n",
    "#複数の説明変数を使うため，線形回帰直線を2次元のグラフとしてプロットできない\n",
    "import matplotlib.pyplot as plt\n",
    "from sklearn.model_selection import train_test_split\n",
    "from sklearn.linear_model import LinearRegression\n",
    "X=df.iloc[:, :-1].values\n",
    "y=df['MEDV'].values\n",
    "X_train, X_test,  y_train,  y_test=train_test_split(X,y,test_size=0.9, random_state=0)\n",
    "slr=LinearRegression()\n",
    "slr.fit(X_train,  y_train)\n",
    "y_train_pred=slr.predict(X_train)\n",
    "y_test_pred=slr.predict(X_test)"
   ]
  },
  {
   "cell_type": "code",
   "execution_count": 41,
   "id": "775463df",
   "metadata": {
    "scrolled": true
   },
   "outputs": [
    {
     "data": {
      "image/png": "[encoded data removed]",
      "text/plain": [
       "<Figure size 432x288 with 1 Axes>"
      ]
     },
     "metadata": {
      "needs_background": "light"
     },
     "output_type": "display_data"
    }
   ],
   "source": [
    "#残差プロットは回帰モデルを診断して非線形性や外れ値を検出し，誤差がランダムに分布しているかどうかをチェックする\n",
    "#目的変数の予測値から正解値を引いている\n",
    "plt.scatter(y_train_pred,  y_train_pred-y_train,\n",
    "                c='steelblue', marker='o',  edgecolor='white',  label='Training data')\n",
    "plt.scatter(y_test_pred,  y_test_pred-  y_test,\n",
    "                 c='limegreen', marker='s',  edgecolor='white',  label='Test data')\n",
    "plt.xlabel('Predicted values')\n",
    "plt.ylabel('Residuals')\n",
    "plt.legend(loc='upper left')\n",
    "plt.hlines(y=0, xmin=-10, xmax=50, color='black', lw=2)\n",
    "plt.xlim([-10,50])\n",
    "plt.tight_layout()\n",
    "plt.show()"
   ]
  },
  {
   "cell_type": "markdown",
   "id": "fc8de09e",
   "metadata": {},
   "source": [
    "###  平均二乗誤差  \n",
    "- モデルの性能を数値化する手法の一つ\n",
    "- 各データに対して「予測値と正解値の差(=誤差)」の二乗値を計算し，その総和をデータ数で割った値(＝平均値)を出力する\n",
    "- 線形回帰モデルを学習させるときに使う\n",
    "\n",
    "\n",
    "<img src=\"10-5-1.png\"  width=\"300\">"
   ]
  },
  {
   "cell_type": "code",
   "execution_count": 43,
   "id": "f38672b4",
   "metadata": {},
   "outputs": [
    {
     "name": "stdout",
     "output_type": "stream",
     "text": [
      "MSE train: 7.105, test: 30.347\n"
     ]
    }
   ],
   "source": [
    "#訓練データセットとテストデータセットの予測値の平均二乗誤差(MSE)を計算する\n",
    "from sklearn.metrics import mean_squared_error\n",
    "\n",
    "#平均二乗誤差を出力\n",
    "print('MSE train: %.3f, test: %.3f' %  (mean_squared_error(y_train, y_train_pred),\n",
    "                                                       mean_squared_error(y_test,  y_test_pred)))"
   ]
  },
  {
   "cell_type": "markdown",
   "id": "1de6bc07",
   "metadata": {},
   "source": [
    " ##  決定係数\n",
    " - モデルによる予測が実際の値に比べてどれだけズレが小さいかを客観的に示す指標のこと\n",
    " - 普通0~1の範囲の値を取り，値が大きいほどモデルが適切にデータを表現出来ている\n",
    " - 決定変数の大小からモデルの良し悪しを判断出来る\n",
    " -  SSEとは予測値と真値のズレを２乗して足し合わせたもの(誤差平方和)\n",
    " \n",
    " <img src=\"10-5-2.png\"  width=\"190\">\n",
    "  \n",
    " - SSTとは全平方和を表す．観測された予測の対象となる変数とその平均の間の差の２乗\n",
    "  <img src=\"10-5-3.png\"  width=\"340\">\n",
    "   \n",
    "   \n",
    "  <img src=\"10-5-4.png\"  width=\"380\">\n",
    "  \n",
    "  - テストデータセットでは負の値になる可能性がある\n",
    "  - 訓練データセットは決定係数0~1の範囲になる"
   ]
  },
  {
   "cell_type": "code",
   "execution_count": 44,
   "id": "dec5176b",
   "metadata": {},
   "outputs": [
    {
     "name": "stdout",
     "output_type": "stream",
     "text": [
      "R^2 train: 0.883,  test: 0.651\n"
     ]
    }
   ],
   "source": [
    "#訓練データセットとテストデータセットを使う\n",
    "#R^2(決定変数)のスコアを出力\n",
    "from sklearn.metrics import r2_score\n",
    "print('R^2 train: %.3f,  test: %.3f'  % (r2_score(y_train, y_train_pred),r2_score(y_test,y_test_pred)))"
   ]
  },
  {
   "cell_type": "markdown",
   "id": "2b9bb0e4",
   "metadata": {},
   "source": [
    "# 10.6 回帰に正則化手法を使う\n",
    "\n",
    "\n",
    "-  正則化は過学習の問題に対処する手法の一つ\n",
    "\n",
    "(正則化された線形回帰の例)\n",
    "###  リッジ回帰\n",
    " -    L2ペナルティ付きのモデル\n",
    " -    線形回帰のコスト関数に重みの平方和を足し合わせたもの\n",
    " -  L2ペナルティによる正則化では重みは完全に０にならない性質がある\n",
    " -  説明変数が多いときにはモデルの解釈が複雑になる欠点がある\n",
    "      <img src=\"10-6-1.png\"  width=\"480\">\n",
    "       <img src=\"10-6-2.png\"  width=\"380\">   \n",
    "       \n",
    "\n",
    "       \n",
    "       \n",
    "       \n",
    "###  LASSO\n",
    "   -    LASSOは教師ありの特徴量選択の手法\n",
    "      -    最小２乗コスト関数に対して，重みの合計を足したもの\n",
    "      -    リッジ回帰と違って不要と判断される説明変数の重みが0になる\n",
    "      -    モデル構築においていくつかの説明変数が完全に無視される\n",
    "      -    モデルの選択と同時に説明変数の数を削減し，説明変数の選択を自動で行う\n",
    "   <img src=\"10-6-3.png\"  width=\"480\"> \n",
    "   <img src=\"10-6-4.png\"  width=\"480\"> \n",
    "   \n",
    "###  Elastic Net法\n",
    "\n",
    "   -     リッジ回帰とLassoの折衷案で，Lassoのモデルに取り込める説明変数の数に制限があるという問題点をカバー出来る\n",
    "      -     L1ペナルティとL2ペナルティを使う．\n",
    "      -     L1ペナルティはスパースモデルを生成するために使われる\n",
    "      -     L2ペナルティはm>nの場合に特徴量をn個よりも多く選択するために使われる\n",
    "   <img src=\"10-6-5.png\"  width=\"580\"> "
   ]
  },
  {
   "cell_type": "code",
   "execution_count": 8,
   "id": "221b9e93",
   "metadata": {},
   "outputs": [],
   "source": [
    "#リッジ回帰モデルを初期化するコード\n",
    "from sklearn.linear_model import Ridge\n",
    "ridge=Ridge(alpha=1.0) #L2ペナルティ項の影響度合いを表す値を引数に指定"
   ]
  },
  {
   "cell_type": "code",
   "execution_count": 9,
   "id": "f04bec75",
   "metadata": {},
   "outputs": [],
   "source": [
    "#linear_modelサブモジュールのLASSO回帰を初期化する\n",
    "from sklearn.linear_model import Lasso\n",
    "lasso=Lasso(alpha=1.0)"
   ]
  },
  {
   "cell_type": "code",
   "execution_count": 10,
   "id": "c0ec8bc3",
   "metadata": {},
   "outputs": [],
   "source": [
    "#L1ペナルティとL2ペナルティの比率を変更\n",
    "from sklearn.linear_model import ElasticNet\n",
    "elanet=ElasticNet(alpha=1.0,  l1_ratio=0.5)"
   ]
  },
  {
   "cell_type": "code",
   "execution_count": null,
   "id": "2d326408",
   "metadata": {},
   "outputs": [],
   "source": []
  }
 ],
 "metadata": {
  "kernelspec": {
   "display_name": "Python 3",
   "language": "python",
   "name": "python3"
  },
  "language_info": {
   "codemirror_mode": {
    "name": "ipython",
    "version": 3
   },
   "file_extension": ".py",
   "mimetype": "text/x-python",
   "name": "python",
   "nbconvert_exporter": "python",
   "pygments_lexer": "ipython3",
   "version": "3.9.5"
  },
  "varInspector": {
   "cols": {
    "lenName": 16,
    "lenType": 16,
    "lenVar": 40
   },
   "kernels_config": {
    "python": {
     "delete_cmd_postfix": "",
     "delete_cmd_prefix": "del ",
     "library": "var_list.py",
     "varRefreshCmd": "print(var_dic_list())"
    },
    "r": {
     "delete_cmd_postfix": ") ",
     "delete_cmd_prefix": "rm(",
     "library": "var_list.r",
     "varRefreshCmd": "cat(var_dic_list()) "
    }
   },
   "types_to_exclude": [
    "module",
    "function",
    "builtin_function_or_method",
    "instance",
    "_Feature"
   ],
   "window_display": false
  }
 },
 "nbformat": 4,
 "nbformat_minor": 5
}
