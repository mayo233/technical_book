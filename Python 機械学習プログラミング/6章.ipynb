{
 "cells": [
  {
   "cell_type": "markdown",
   "id": "mechanical-senate",
   "metadata": {
    "slideshow": {
     "slide_type": "-"
    }
   },
   "source": [
    "# 6.5   様々な性能評価指標\n",
    "**適合率**    陽性クラスと予測したデータ点のうち，実際に陽性クラスだったものの割合\n",
    "(真陽性)\n",
    "\n",
    "**再現率**    真陽性率と同義語\n",
    "\n",
    "**F1スコア**  適合率と再現率を組み合わせたもの"
   ]
  },
  {
   "cell_type": "markdown",
   "id": "large-restoration",
   "metadata": {
    "slideshow": {
     "slide_type": "-"
    }
   },
   "source": [
    "## 6.5.1  混同行列を解釈する\n",
    "混同行列とは学習アルゴリズムの性能を明らかにする行列\n",
    "\n",
    "真と偽は予測が当たったかどうか\n",
    "\n",
    "陽性と陰性は予測されたクラスを表現\n",
    "\n",
    "<img src=\"混同行列.png\"  width=\"300\">"
   ]
  },
  {
   "cell_type": "code",
   "execution_count": 1,
   "id": "impressed-worship",
   "metadata": {},
   "outputs": [],
   "source": [
    "#データセットを読み込む\n",
    "import pandas as pd\n",
    "df=pd.read_csv('https://archive.ics.uci.edu/ml/machine-learning-databases/'\n",
    "               'breast-cancer-wisconsin/wdbc.data',header=None\n",
    ")"
   ]
  },
  {
   "cell_type": "code",
   "execution_count": 2,
   "id": "hundred-philippines",
   "metadata": {},
   "outputs": [
    {
     "data": {
      "text/plain": [
       "array(['B', 'M'], dtype=object)"
      ]
     },
     "execution_count": 2,
     "metadata": {},
     "output_type": "execute_result"
    }
   ],
   "source": [
    "from sklearn.preprocessing import LabelEncoder\n",
    "X=df.loc[:,2:].values\n",
    "y=df.loc[:,1].values\n",
    "le=LabelEncoder()\n",
    "y=le.fit_transform(y)\n",
    "le.classes_"
   ]
  },
  {
   "cell_type": "code",
   "execution_count": 39,
   "id": "dressed-wages",
   "metadata": {},
   "outputs": [],
   "source": [
    "from sklearn.model_selection import train_test_split\n",
    "X_train, X_test,y_train,y_test=train_test_split(X,y,test_size=0.30,\n",
    "                                               stratify=y, random_state=1)"
   ]
  },
  {
   "cell_type": "code",
   "execution_count": 40,
   "id": "racial-guitar",
   "metadata": {
    "slideshow": {
     "slide_type": "-"
    }
   },
   "outputs": [
    {
     "name": "stdout",
     "output_type": "stream",
     "text": [
      "[[105   2]\n",
      " [  6  58]]\n"
     ]
    }
   ],
   "source": [
    "from sklearn.metrics import confusion_matrix\n",
    "from sklearn.pipeline import make_pipeline\n",
    "from sklearn.svm import SVC\n",
    "from sklearn.preprocessing import StandardScaler\n",
    "from sklearn.linear_model import LogisticRegression\n",
    "from sklearn.decomposition import PCA\n",
    "import matplotlib.pyplot as plt\n",
    "from sklearn. model_selection import StratifiedKFold\n",
    "\n",
    "pipe_svc = make_pipeline(StandardScaler(),SVC(random_state=1))\n",
    "pipe_svc.fit(X_train,y_train)\n",
    "y_pred=pipe_svc.predict(X_test)\n",
    "\n",
    "#テストと予測のデータから混同行列を生成\n",
    "confmat=confusion_matrix(y_true=y_test,  y_pred=y_pred)\n",
    "print(confmat)"
   ]
  },
  {
   "cell_type": "code",
   "execution_count": 41,
   "id": "continued-expression",
   "metadata": {},
   "outputs": [
    {
     "data": {
      "image/png": "[encoded data removed]",
      "text/plain": [
       "<Figure size 180x180 with 1 Axes>"
      ]
     },
     "metadata": {
      "needs_background": "light"
     },
     "output_type": "display_data"
    }
   ],
   "source": [
    "#図のサイズを指定\n",
    "fig,ax=plt.subplots(figsize=(2.5,2.5))\n",
    "\n",
    "#matshow関数で行列からヒートマップを描画\n",
    "ax.matshow(confmat,cmap=plt.cm.Blues,  alpha=0.3)\n",
    "for i in range(confmat.shape[0]):  #クラス0の繰り返し処理\n",
    "    for j in range(confmat.shape[1]):  #クラス１の繰り返し処理\n",
    "        ax.text(x=j, y=i, s=confmat[i,j], va='center',ha='center') #件数を表示\n",
    "        \n",
    "plt.xlabel('Predicted label')\n",
    "plt.ylabel('True label')\n",
    "plt.tight_layout()\n",
    "plt.show()"
   ]
  },
  {
   "cell_type": "markdown",
   "id": "killing-newcastle",
   "metadata": {},
   "source": [
    "# 6.5.2. 分類モデルの適合率と再現率を最適化する\n",
    "<img src=\"混同行列.png\"  width=\"400\" align=\"right\">\n",
    "<br>\n",
    "    (ERR)：予測の誤分類率&emsp;(ACC):正解率&emsp;(TPR):真陽性率 &emsp;(PRE):適合率 &emsp;(REC):再現率 \n",
    "<br>\n",
    "<br>\n",
    "$$\n",
    "\\begin{align}\n",
    "    ERR   &= \\frac{FP+FN}{FP+FN+TP+TN}\\\\\\\\\n",
    "    ACC  &= \\frac{TP+TN}{FP+FN+TP+TN}= 1-ERR&\\\\\\\\ \n",
    "    TPR  &= \\frac{TP}{ P}=\\frac{TP}{TP+FN}\\\\\\\\\n",
    "    PRE  &= \\frac{TP}{TP+FP}\\\\\\\\\n",
    "    F1   &= \\frac{2\\times PRE \\times REC}{PRE+REC}\\\\\n",
    "\\end{align}\n",
    "$$"
   ]
  },
  {
   "cell_type": "code",
   "execution_count": 42,
   "id": "turned-freeware",
   "metadata": {},
   "outputs": [
    {
     "name": "stdout",
     "output_type": "stream",
     "text": [
      "Precision: 0.967\n",
      "Recall:  0.906\n",
      "F1:  0.935\n"
     ]
    }
   ],
   "source": [
    "#適合率，再現率，F1スコアを出力\n",
    "from sklearn.metrics import precision_score\n",
    "from sklearn.metrics import recall_score,  f1_score\n",
    "print('Precision: %.3f' % precision_score(y_true=y_test, y_pred=y_pred) )\n",
    "print('Recall:  %.3f' %  recall_score(y_true=y_test,  y_pred=y_pred))\n",
    "print('F1:  %.3f' %  f1_score(y_true=y_test,  y_pred=y_pred))"
   ]
  },
  {
   "cell_type": "code",
   "execution_count": 46,
   "id": "secure-tuesday",
   "metadata": {},
   "outputs": [
    {
     "name": "stdout",
     "output_type": "stream",
     "text": [
      "0.992153846153846\n",
      "{'svc__C': 10.0, 'svc__gamma': 0.1, 'svc__kernel': 'rbf'}\n"
     ]
    }
   ],
   "source": [
    "#カスタムの性能指標を出力\n",
    "from  sklearn.metrics import make_scorer,  f1_score\n",
    "#from  sklearn.metrics import make_scorer,  precision_score\n",
    "#from  sklearn.metrics import make_scorer,  recall_score\n",
    "\n",
    "from sklearn.model_selection import GridSearchCV\n",
    "from sklearn.svm import SVC\n",
    "c_gamma_range=[0.01,  0.1,  1.0,  10.0]\n",
    "param_grid=[{'svc__C':  c_gamma_range, 'svc__kernel' : ['linear']},\n",
    "                        {'svc__C':  c_gamma_range,  'svc__gamma':  c_gamma_range,\n",
    "                        'svc__kernel': ['rbf']}]\n",
    "scorer=make_scorer(precision_score, pos_label=0)\n",
    "gs=GridSearchCV(estimator=pipe_svc,\n",
    "                                param_grid=param_grid,\n",
    "                                scoring=scorer,\n",
    "                                cv=10, n_jobs=-1)\n",
    "gs=gs.fit(X_train, y_train)\n",
    "print(gs.best_score_)\n",
    "print(gs.best_params_)"
   ]
  },
  {
   "cell_type": "markdown",
   "id": "electrical-childhood",
   "metadata": {},
   "source": [
    "# 6.5.3. ROC曲線をプロットする\n",
    "\n",
    "<img src=\"図.png\"  alt=\"図\" align=\"left\"  width=\"560\">  <img src=\"表.png\" alt=\"表\" align=\"center\"  width=\"220\">\n",
    "\n"
   ]
  },
  {
   "cell_type": "code",
   "execution_count": 13,
   "id": "documented-cliff",
   "metadata": {},
   "outputs": [
    {
     "data": {
      "image/png": "[encoded data removed]",
      "text/plain": [
       "<Figure size 504x360 with 1 Axes>"
      ]
     },
     "metadata": {
      "needs_background": "light"
     },
     "output_type": "display_data"
    }
   ],
   "source": [
    "from sklearn.metrics import roc_curve, auc\n",
    "from numpy import interp\n",
    "#import numpy as np\n",
    "from sklearn.model_selection import StratifiedKFold\n",
    "\n",
    "#スケーリング，PCA，ロジスティック回帰を指定してPipelineクラスをインスタンス化\n",
    "pipe_lr=make_pipeline(StandardScaler(), PCA(n_components=2),\n",
    "                                         LogisticRegression(penalty='l2',  random_state=1,\n",
    "                                                                           solver='lbfgs',  C=100.0))\n",
    "\n",
    "#２つの特徴量を抽出\n",
    "X_train2=X_train[:,[4,14]]\n",
    "\n",
    "#層化k分割交差検証イテレータを表すStratifiedKFoldクラスをインスタンス化\n",
    "cv=list(StratifiedKFold(n_splits=3).split(X_train,  y_train))\n",
    "fig=plt.figure(figsize=(7,5))\n",
    "mean_tpr=0.0\n",
    "\n",
    "#0から1までの間で100個の要素を生成\n",
    "mean_fpr=np.linspace(0,1,100)\n",
    "all_tpr=[]\n",
    "for i,  (train,test)  in enumerate(cv):\n",
    "    \n",
    "    #predict_probaメソッドで確率を予測，fitメソッドでモデルに適合させる\n",
    "    probas=pipe_lr.fit(X_train2[train],\n",
    "                                     y_train[train]).predict_proba(X_train2[test])\n",
    "    \n",
    "    #roc_curve関数でROC曲線の性能を計算してプロット\n",
    "    fpr,tpr, thresholds=roc_curve(y_train[test], probas[:,1], pos_label=1)\n",
    "    mean_tpr+=interp(mean_fpr,  fpr,  tpr)  #FPR(X軸) とTPR(Y軸)を線形補間\n",
    "    mean_tpr[0]=0.0\n",
    "    roc_auc=auc(fpr, tpr)  #曲線下面積(AUC)を計算\n",
    "    plt.plot(fpr,  tpr,  label='ROC. fold %d. (area=%0.2f)' %  (i+1,  roc_auc))\n",
    "    \n",
    "#当て推量をプロット\n",
    "plt.plot([0,1],[0,1],\n",
    "              linestyle='--',  color=(0.6,0.6,0.6),label='Random. guessing')\n",
    "\n",
    "#FPR, TPR, ROC,AUCそれぞれの平均を計算してプロット\n",
    "mean_tpr/=len(cv)\n",
    "mean_tpr[-1]=1.0\n",
    "mean_auc=auc(mean_fpr, mean_tpr)\n",
    "plt.plot(mean_fpr, mean_tpr,  'k--',\n",
    "              label='Mean ROC (area=%0.2f)' % mean_auc,lw=2)\n",
    "\n",
    "#完全に予測が正解した時のROC曲線をプロット\n",
    "plt.plot([0,0,1],[0,1,1],\n",
    "              linestyle=':', color='black',label='Perfect performance')\n",
    "\n",
    "#グラフの各項目を指定\n",
    "plt.xlim([-0.05, 1.05])\n",
    "plt.ylim([-0.05, 1.05])\n",
    "plt.xlabel('False positive rate')\n",
    "plt.ylabel('True positive rate')\n",
    "plt.legend(loc=\"lower right\")\n",
    "plt.tight_layout()\n",
    "plt.show()"
   ]
  },
  {
   "cell_type": "markdown",
   "id": "binding-excellence",
   "metadata": {},
   "source": [
    "# 6.5.4　　　多クラス分類のための性能指標\n",
    "\n",
    "# - マクロ平均法\n",
    "<br>\n",
    "  各クラスごとに指標を算出してから平均をとる\n",
    "  <img src=\"マクロ.png\"  width=\"200\">\n",
    "  \n",
    "<br>\n",
    "<br>\n",
    "\n",
    "# - マイクロ平均法\n",
    "<br>\n",
    "   全クラスでいっせいに指標を計算する\n",
    "   <img src=\"マクロ平均法.png\"  width=\"300\">\n",
    "<br>\n",
    "  \n"
   ]
  },
  {
   "cell_type": "code",
   "execution_count": 14,
   "id": "strategic-vertex",
   "metadata": {},
   "outputs": [],
   "source": [
    "pre_scorer=make_scorer(score_func=precision_score,\n",
    "                                              pos_label=1,\n",
    "                                              greater_is_better=True,\n",
    "                                              average='micro')"
   ]
  },
  {
   "cell_type": "markdown",
   "id": "assigned-reunion",
   "metadata": {},
   "source": [
    "# 6.6  クラスの不均衡に対処する\n",
    "\n"
   ]
  },
  {
   "cell_type": "code",
   "execution_count": 59,
   "id": "specified-narrow",
   "metadata": {},
   "outputs": [],
   "source": [
    "#357個の良性腫瘍のデータ点を全て選択し，最初の40個の悪性腫瘍のデータ点を結合している\n",
    "x_imb=np.vstack((X[y==0], X[y==1][:40]))  #最初の４０個の悪性腫瘍のデータ点\n",
    "y_imb=np.hstack((y[y==0], y[y==1][:40]))"
   ]
  },
  {
   "cell_type": "code",
   "execution_count": 60,
   "id": "direct-triangle",
   "metadata": {},
   "outputs": [
    {
     "data": {
      "text/plain": [
       "89.92443324937027"
      ]
     },
     "execution_count": 60,
     "metadata": {},
     "output_type": "execute_result"
    }
   ],
   "source": [
    "y_pred=np.zeros(y_imb.shape[0])\n",
    "np.mean(y_pred==y_imb)*100"
   ]
  },
  {
   "cell_type": "code",
   "execution_count": 61,
   "id": "relevant-pendant",
   "metadata": {},
   "outputs": [
    {
     "name": "stdout",
     "output_type": "stream",
     "text": [
      "Number of class 1 examples before: 40\n",
      "Number of class 1 examples after: 357\n"
     ]
    }
   ],
   "source": [
    "from sklearn.utils import resample\n",
    "print('Number of class 1 examples before:', x_imb[y_imb==1].shape[0])\n",
    "\n",
    "#データ点の個数がクラス０と同じになるまで新しいデータ点を復元抽出\n",
    "X_upsampled,y_upsampled=resample(x_imb[y_imb==1],\n",
    "                                y_imb[y_imb==1],\n",
    "                                replace=True,\n",
    "                                n_samples=x_imb[y_imb==0].shape[0],\n",
    "                                random_state=123)\n",
    "print('Number of class 1 examples after:', X_upsampled.shape[0])"
   ]
  },
  {
   "cell_type": "code",
   "execution_count": 18,
   "id": "embedded-slovenia",
   "metadata": {},
   "outputs": [],
   "source": [
    "x_bal=np.vstack((X[y==0], X_upsampled))\n",
    "y_bal=np.hstack((y[y==0], y_upsampled))"
   ]
  },
  {
   "cell_type": "code",
   "execution_count": 19,
   "id": "becoming-agent",
   "metadata": {},
   "outputs": [
    {
     "data": {
      "text/plain": [
       "50.0"
      ]
     },
     "execution_count": 19,
     "metadata": {},
     "output_type": "execute_result"
    }
   ],
   "source": [
    "y_pred=np.zeros(y_bal.shape[0])\n",
    "np.mean(y_pred==y_bal)*100"
   ]
  },
  {
   "cell_type": "code",
   "execution_count": null,
   "id": "controversial-omaha",
   "metadata": {},
   "outputs": [],
   "source": []
  },
  {
   "cell_type": "code",
   "execution_count": null,
   "id": "another-google",
   "metadata": {},
   "outputs": [],
   "source": []
  },
  {
   "cell_type": "code",
   "execution_count": null,
   "id": "considerable-kruger",
   "metadata": {},
   "outputs": [],
   "source": [
    "    "
   ]
  }
 ],
 "metadata": {
  "celltoolbar": "Slideshow",
  "kernelspec": {
   "display_name": "Python 3",
   "language": "python",
   "name": "python3"
  },
  "language_info": {
   "codemirror_mode": {
    "name": "ipython",
    "version": 3
   },
   "file_extension": ".py",
   "mimetype": "text/x-python",
   "name": "python",
   "nbconvert_exporter": "python",
   "pygments_lexer": "ipython3",
   "version": "3.9.5"
  },
  "varInspector": {
   "cols": {
    "lenName": 16,
    "lenType": 16,
    "lenVar": 40
   },
   "kernels_config": {
    "python": {
     "delete_cmd_postfix": "",
     "delete_cmd_prefix": "del ",
     "library": "var_list.py",
     "varRefreshCmd": "print(var_dic_list())"
    },
    "r": {
     "delete_cmd_postfix": ") ",
     "delete_cmd_prefix": "rm(",
     "library": "var_list.r",
     "varRefreshCmd": "cat(var_dic_list()) "
    }
   },
   "types_to_exclude": [
    "module",
    "function",
    "builtin_function_or_method",
    "instance",
    "_Feature"
   ],
   "window_display": false
  }
 },
 "nbformat": 4,
 "nbformat_minor": 5
}
