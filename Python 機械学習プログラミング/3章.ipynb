{
 "cells": [
  {
   "cell_type": "code",
   "execution_count": 145,
   "id": "fresh-invitation",
   "metadata": {
    "code_folding": [],
    "scrolled": false
   },
   "outputs": [
    {
     "name": "stdout",
     "output_type": "stream",
     "text": [
      "Class labels: [0 1 2]\n"
     ]
    }
   ],
   "source": [
    "#花弁の長さと花弁の幅\n",
    "from sklearn import datasets\n",
    "import numpy as np\n",
    "\n",
    "#Irisデータセットをロード\n",
    "iris=datasets.load_iris()\n",
    "\n",
    "#3,4行目の特徴量を抽出\n",
    "x=iris.data[:,[2,3]]\n",
    "\n",
    "#クラスラベルを取得\n",
    "y=iris.target\n",
    "\n",
    "#一意なクラスラベルを3つ出力 \n",
    "print('Class labels:',np.unique(y))  \n",
    "\n",
    "\n",
    "#機械学習ライブラリではクラスラベルを整数として符号化する\n",
    "#なぜならメモリ消費を抑えて計算性能を向上させるためだから"
   ]
  },
  {
   "cell_type": "code",
   "execution_count": 140,
   "id": "ruled-massage",
   "metadata": {},
   "outputs": [
    {
     "name": "stdout",
     "output_type": "stream",
     "text": [
      "Labels counts in y: [50 50 50]\n",
      "Labels counts in y_train: [35 35 35]\n",
      "Labels counts in y_test: [15 15 15]\n"
     ]
    }
   ],
   "source": [
    "#x配列とy配列を３割のテストデータと７割の訓練データにランダムに分割する\n",
    "from sklearn.model_selection import train_test_split\n",
    "#訓練データとテストデータに分割\n",
    "#全体の３割をテストデータにする\n",
    "x_train,x_test,y_train,y_test=train_test_split(x,y,test_size=0.3,random_state=1,stratify=y)\n",
    "print('Labels counts in y:',np.bincount(y))\n",
    "print('Labels counts in y_train:',np.bincount(y_train))\n",
    "print('Labels counts in y_test:',np.bincount(y_test))\n",
    "\n",
    "\n",
    "#train_test_split関数はデータセットを分割する前に訓練データセットを内部でシャッフルする\n",
    "#じゃないとクラス０とクラス１のデータ点全てが訓練データセットに追加され，テストデータセットがクラス２の45個\n",
    "#のデータ点で構成される．\n",
    "#random_stateパラメータはデータセットを分割する前のシャッフルに使われる\n",
    "#stratify=yは組み込み機能としてサポートされている層化サンプリングは訓練サブセット\n",
    "#とテストサブセットに含まれているクラスラベルの比率が入力データセットと同じであること"
   ]
  },
  {
   "cell_type": "code",
   "execution_count": 141,
   "id": "instructional-subsection",
   "metadata": {},
   "outputs": [],
   "source": [
    "from sklearn.preprocessing import StandardScaler  #StandardScalerクラスをpreprocessingモジュールから読み込む\n",
    "sc=StandardScaler() #このクラスの新しいインスタンスを代入\n",
    "\n",
    "#訓練データの平均と標準偏差を計算\n",
    "sc.fit(x_train)   #訓練データから特徴量ごとに平均値と標準偏差を推定する\n",
    "\n",
    "#平均と標準偏差を用いて標準化   \n",
    "x_train_std=sc.transform(x_train)  #訓練データを標準化\n",
    "x_test_std=sc.transform(x_test)    #テストデータセットを標準化\n",
    "\n",
    "\n",
    "#ここでは一対他手法が用いられるため３つの品種のクラスをパーセプトロンに同時に与えることが可\n",
    "#なお一対他とはone-vs-restと言って分類問題に使われる手法\n",
    "#この手法はある特定のクラスに入るか，他のk-1個のクラスのどれかに入るかの2クラス分類問題を\n",
    "#解く分類器をk個利用する"
   ]
  },
  {
   "cell_type": "code",
   "execution_count": 142,
   "id": "urban-saver",
   "metadata": {},
   "outputs": [
    {
     "data": {
      "text/plain": [
       "Perceptron(eta0=0.1, random_state=1)"
      ]
     },
     "execution_count": 142,
     "metadata": {},
     "output_type": "execute_result"
    }
   ],
   "source": [
    "from sklearn.linear_model import Perceptron\n",
    "#エポック数４０，学習りつ０．１でパーセプトロンのインスタンスを生成\n",
    "ppn=Perceptron(eta0=0.1,random_state=1) #エポックごとに訓練データセットの並べ替えができるようにランダム\n",
    "\n",
    "#訓練データをモデルに適合させる\n",
    "ppn.fit(x_train_std,y_train)\n",
    "\n",
    "\n",
    "#random_stateパラメータを使っているのはエポックごとに訓練データセットの並べ替えを再現できるようにするため\n"
   ]
  },
  {
   "cell_type": "code",
   "execution_count": 99,
   "id": "precious-locking",
   "metadata": {},
   "outputs": [
    {
     "name": "stdout",
     "output_type": "stream",
     "text": [
      "Misclassified examples: 1\n"
     ]
    }
   ],
   "source": [
    "#テストデータで予測を実地\n",
    "y_pred=ppn.predict(x_test_std)\n",
    "#誤分類のデータ点の個数を表示\n",
    "print('Misclassified examples: %d' % (y_test!=y_pred).sum())"
   ]
  },
  {
   "cell_type": "code",
   "execution_count": 143,
   "id": "maritime-nowhere",
   "metadata": {},
   "outputs": [
    {
     "name": "stdout",
     "output_type": "stream",
     "text": [
      "Accuracy: 0.978\n",
      "Accuracy: 1.000\n"
     ]
    }
   ],
   "source": [
    "from sklearn.metrics import accuracy_score\n",
    "#分類の正解率を表示\n",
    "print('Accuracy: %.3f' % accuracy_score(y_test,y_pred))\n",
    "print('Accuracy: %.3f' % ppn.score(x_test_std,y_pred))\n",
    "\n",
    "\n",
    "#y_testは真のクラスラベル，y_predは以前に予測したクラスラベル\n",
    "#このメソッドではpredict呼び出しを先のaccuracy_scoreと組み合わせることで\n",
    "#分類器の正解率を計算する\n"
   ]
  },
  {
   "cell_type": "code",
   "execution_count": 354,
   "id": "remarkable-microphone",
   "metadata": {},
   "outputs": [
    {
     "data": {
      "image/png": "[encoded data removed]",
      "text/plain": [
       "<Figure size 432x288 with 1 Axes>"
      ]
     },
     "metadata": {
      "needs_background": "light"
     },
     "output_type": "display_data"
    }
   ],
   "source": [
    "#正解率=1-誤分類率　\n",
    "#過学習 モデルが訓練データのパターンを適切に認識するものの，未知のデータには汎用できない\n",
    "#訓練したばかりのパーセプトロンモデルの決定領域をプロットし，様々な品種のデータ点をどの程度s機別できるのかしかする\n",
    "from matplotlib.colors import ListedColormap\n",
    "import matplotlib.pyplot as plt\n",
    "\n",
    "def plot_decision_regions(X,y,classifier,test_idx=None,resolution=0.02):\n",
    "    #マーカーとカラーマップの準備\n",
    "    markers=('s','x','o','^','v')\n",
    "    colors=('m','darkcyan','yellow')\n",
    "    cmap=ListedColormap(colors[:len(np.unique(y))])\n",
    "    \n",
    "    #決定領域のプロット\n",
    "    x1_min,x1_max=X[:,0].min()-1,X[:,0].max()+1\n",
    "    x2_min,x2_max=X[:,0].min()-1,X[:,0].max()+1\n",
    "    \n",
    "    #グリッドポイントの生成\n",
    "    xx1,xx2=np.meshgrid(np.arange(x1_min,x1_max,resolution),\n",
    "                       np.arange(x2_min,x2_max,resolution))\n",
    "    \n",
    "    #各特徴量を１次元配列に変換して予測を実行\n",
    "    z=classifier.predict(np.array([xx1.ravel(),  xx2.ravel()]).T)\n",
    "    \n",
    "    #予測結果を元のグリッドポイントのデータサイズに変換\n",
    "    Z=z.reshape(xx1.shape)\n",
    "    \n",
    "    #グリッドポイントの等高線のプロット\n",
    "    plt.contourf(xx1,xx2,Z,alpha=0.3, cmap=cmap)\n",
    "    \n",
    "    #軸の範囲の設定\n",
    "    plt.xlim(xx1.min(),xx1.max())\n",
    "    plt.ylim(xx2.min(),xx2.max())\n",
    "    \n",
    "    #クラスごとにデータ点をプロット\n",
    "    for idx,cl in enumerate(np.unique(y)):\n",
    "        #print(X[y==cl,  0])\n",
    "        #print(idx)\n",
    "        plt.scatter(x=X[y==cl,  0],y=X[y==cl,1],alpha=0.8,c=colors[idx],\n",
    "                   marker=markers[idx],label=cl,edgecolors='black')\n",
    "        \n",
    "    #テストデータ点を目立たせる(点をまるで表示)\n",
    "    if test_idx:\n",
    "        #for idx in y[test_idx]:\n",
    "            #全てのデータ点をプロット\n",
    "        x_test,y_test=X[test_idx,:],y[test_idx]\n",
    "        #print(x_test)\n",
    "        #for idx  in y_test:\n",
    "            #print(idx)\n",
    "            #print(y_test[:])\n",
    "        plt.scatter(x_test[:,0], x_test[:,1],  c=y_test, edgecolors='black', alpha=1.0, linewidth=1, marker='o', s=100, label='test_set')\n",
    "              \n",
    "#訓練データとテストデータの特徴量を行方向に結合\n",
    "x_combined_std=np.vstack((x_train_std, x_test_std))\n",
    "\n",
    "#訓練データとテストデータのクラスラベルを結合\n",
    "y_combined=np.hstack((y_train, y_test))\n",
    "\n",
    "#決定境界のプロット\n",
    "plot_decision_regions(X=x_combined_std, y=y_combined, classifier=ppn,\n",
    "                      test_idx=range(105,150))\n",
    "\n",
    "#軸のラベルの設定\n",
    "plt.xlabel('petal length [standardized]')\n",
    "plt.ylabel('petal width [standardized]')\n",
    "\n",
    "#凡例の設定(左上に配置)\n",
    "plt.legend(loc='upper left')\n",
    "\n",
    "#グラフを表示\n",
    "plt.tight_layout()\n",
    "plt.show()   "
   ]
  },
  {
   "cell_type": "code",
   "execution_count": 66,
   "id": "turkish-nature",
   "metadata": {},
   "outputs": [
    {
     "data": {
      "image/png": "[encoded data removed]",
      "text/plain": [
       "<Figure size 432x288 with 1 Axes>"
      ]
     },
     "metadata": {
      "needs_background": "light"
     },
     "output_type": "display_data"
    }
   ],
   "source": [
    "#ロジスティック回帰  線形分類問題と二値分類問題に対する単純なアルゴリズム\n",
    "import matplotlib.pyplot as plt\n",
    "import numpy as np\n",
    "\n",
    "#シグモイド関数を定義\n",
    "def sigmoid(z):\n",
    "    return 1.0 / (1.0 + np.exp(-z))\n",
    "\n",
    "#0.1間隔で-7以上7未満のデータを生成\n",
    "z=np.arange(-7,7,0.1)\n",
    "\n",
    "#生成したデータでシグモイド関数を実行\n",
    "phi_z=sigmoid(z)\n",
    "\n",
    "#元のデータとシグモイド関数の出力をプロット\n",
    "plt.plot(z,phi_z)\n",
    "\n",
    "#垂直線を追加　z=0\n",
    "plt.axvline(0.0, color='k')\n",
    "\n",
    "#y軸の上限/加減を設定\n",
    "plt.ylim(-0.1,1.1)\n",
    "\n",
    "#軸のラベルを設定\n",
    "plt.xlabel('z')\n",
    "plt.ylabel('$\\phi  (z)$')\n",
    "\n",
    "#y軸のメモリを追加\n",
    "plt.yticks([0.0, 0.5,  1.0])\n",
    "\n",
    "#Axesクラスのオブジェクトの取得\n",
    "ax=plt.gca()\n",
    "\n",
    "#y軸のメモリに合わせて水平グリット線を追加\n",
    "ax.yaxis.grid(True)\n",
    "\n",
    "#グラフを表示\n",
    "plt.tight_layout()\n",
    "plt.show()\n"
   ]
  },
  {
   "cell_type": "code",
   "execution_count": 68,
   "id": "intelligent-flower",
   "metadata": {},
   "outputs": [
    {
     "data": {
      "image/png": "[encoded data removed]",
      "text/plain": [
       "<Figure size 432x288 with 1 Axes>"
      ]
     },
     "metadata": {
      "needs_background": "light"
     },
     "output_type": "display_data"
    }
   ],
   "source": [
    "#y=1のコストを計算する関数\n",
    "def cost_1(z):\n",
    "    return - np.log(sigmoid(z))\n",
    "\n",
    "#y=0のコストを計算する関数\n",
    "def cost_0(z):\n",
    "    return - np.log(1-sigmoid(z))\n",
    "\n",
    "#0.1間隔で-10以上10未満のデータで生成\n",
    "z=np.arange(-10, 10 ,0.1)\n",
    "\n",
    "#シグモイド関数を実行\n",
    "phi_z=sigmoid(z)\n",
    "\n",
    "#y=1のコストを計算する関数を実行\n",
    "c1=[cost_1(x) for x in z]\n",
    "\n",
    "#結果をプロット\n",
    "plt.plot(phi_z, c1, label='J(w) if y=1')\n",
    "\n",
    "#y=0のコストを計算する関数を実行\n",
    "c0=[cost_0(x) for x in z]\n",
    "\n",
    "#結果をプロット\n",
    "plt.plot(phi_z, c0, linestyle='--', label='J(w) if y=0')\n",
    "\n",
    "#x軸とy軸の上限/下限を設定\n",
    "plt.ylim(0.0, 5.1)\n",
    "plt.xlim([0,1])\n",
    "\n",
    "#x軸のラベルを設定\n",
    "plt.xlabel('$\\phi$(z)')\n",
    "plt.ylabel('J(w)')\n",
    "\n",
    "#凡例を設定\n",
    "plt.legend(loc='upper center')\n",
    "\n",
    "#グラフを表示\n",
    "plt.tight_layout()\n",
    "plt.show()\n",
    "\n",
    "#シグモイド活性化関数を表現　y軸で関連するロジスティック回帰のコストを表現"
   ]
  },
  {
   "cell_type": "code",
   "execution_count": 355,
   "id": "offensive-marketplace",
   "metadata": {},
   "outputs": [
    {
     "data": {
      "image/png": "[encoded data removed]",
      "text/plain": [
       "<Figure size 432x288 with 1 Axes>"
      ]
     },
     "metadata": {
      "needs_background": "light"
     },
     "output_type": "display_data"
    }
   ],
   "source": [
    "#from sklearn.model_selection import train_test_split\n",
    "#X_train,X_test,y_train,y_test=train_test_split(x,y,test_size=0.3,random_state=1,stratify=y)\n",
    "#from matplotlib.colors import ListedColormap\n",
    "#import matplotlib.pyplot as plt\n",
    "\n",
    "class LogisticRegressionGD(object):\n",
    "    \"\"\"\" 勾配降下法に基づくロジスティック回帰分類器\n",
    "    \n",
    "    パラメータ\n",
    "    --------------------------\n",
    "    eta: float\n",
    "        学習りつ (0.0より大きく1.0以下の値)\n",
    "    n_iter: int\n",
    "        訓練データの訓練回数\n",
    "    random_state  :  int\n",
    "        重みを初期化するための乱数シード\n",
    "        \n",
    "    属性\n",
    "    ---------------------------\n",
    "    w_. :  １次元配列\n",
    "        適合後の重み\n",
    "    cost_: リスト\n",
    "        各エポックでのロジスティックコスト関数\n",
    "        \n",
    "    \"\"\"\n",
    "    \n",
    "    def __init__(self,  eta=0.05,  n_iter=100, random_state=1):\n",
    "        #学習率の初期化，訓練回数の初期化，乱数シードを固定にするrandom_state\n",
    "        self.eta=eta\n",
    "        self.n_iter=n_iter\n",
    "        self.random_state=random_state\n",
    "    \n",
    "    def fit(self,  X ,y):\n",
    "        \"\"\"\" 訓練データに適合させる\n",
    "        \n",
    "        パラメータ\n",
    "        -----------------------\n",
    "        X : {配列のような構造}, shape=[n_examples, n_features]\n",
    "            訓練データ\n",
    "            n_examplesはデータ点の個数，n_featuresは特徴量の個数\n",
    "        y: 配列のようなデータ構造，  shape=[n_examples]\n",
    "            目的変数\n",
    "            \n",
    "        戻り値\n",
    "        ---------\n",
    "        self : object\n",
    "        \"\"\"\n",
    "        \n",
    "        rgen=np.random.RandomState(self.random_state)\n",
    "        self.w_=rgen.normal(loc=0.0,  scale=0.01,  size=1 + X.shape[1])\n",
    "        self.cost_=[]\n",
    "        \n",
    "        #訓練回数分まで訓練データを反復処理\n",
    "        for i in range(self.n_iter):\n",
    "            net_input=self.net_input(X)\n",
    "            output=self.activation(net_input)\n",
    "            errors=(y- output)\n",
    "            self.w_[1:] +=self.eta * X.T.dot(errors)\n",
    "            self.w_[0] +=self.eta * errors.sum()\n",
    "            \n",
    "            #誤差平方和のコストではなくロジスティック回帰のコストを計算することに注意\n",
    "            cost=-y.dot(np.log(output)) - ((1-y).dot(np.log(1-output)))\n",
    "            \n",
    "            #エポックごとのコストを格納\n",
    "            self.cost_.append(cost)\n",
    "        return self\n",
    "    \n",
    "    def net_input(self,X):\n",
    "        \"\"\"\n",
    "        総入力を計算\n",
    "        \"\"\"\n",
    "        return np.dot(X, self.w_[1:]) + self.w_[0]\n",
    "    \n",
    "    def activation(self,z):\n",
    "        #ロジスティックシグモイド活性化関数を計算\n",
    "        return 1. / (1. + np.exp(-np.clip(z, -250, 250)))\n",
    "    \n",
    "    def predict(self, X):\n",
    "        #1ステップ後のクラスラベルを返す\n",
    "        return np.where(self.net_input(X) >= 0.0,1,0)\n",
    "    #以下に等しい\n",
    "    #return np.where(self.activation(self.net_input(X)) >= 0.5, 1.0)\n",
    "    \n",
    "X_train_01_subset=X_train[(y_train == 0)  | (y_train==1)]\n",
    "y_train_01_subset=y_train[(y_train == 0)  | (y_train==1)]\n",
    "\n",
    "#ロジスティック回帰のインスタンスを生成\n",
    "lrgd=LogisticRegressionGD(eta=0.05, n_iter=1000,  random_state=1)\n",
    "\n",
    "#モデルを訓練データに適合させる\n",
    "lrgd.fit(X_train_01_subset,  y_train_01_subset)\n",
    "\n",
    "#決定領域をプロット\n",
    "plot_decision_regions(X=X_train_01_subset, y=y_train_01_subset,classifier=lrgd)\n",
    "plt.xlabel('petal length [standardized]')\n",
    "plt.ylabel('petal width [standardized]')\n",
    "plt.legend(loc='upper left')\n",
    "plt.tight_layout()\n",
    "plt.show()"
   ]
  },
  {
   "cell_type": "markdown",
   "id": "pregnant-canada",
   "metadata": {
    "slideshow": {
     "slide_type": "notes"
    }
   },
   "source": [
    " 列の合計"
   ]
  },
  {
   "cell_type": "code",
   "execution_count": null,
   "id": "criminal-pacific",
   "metadata": {},
   "outputs": [],
   "source": []
  },
  {
   "cell_type": "code",
   "execution_count": null,
   "id": "signal-verse",
   "metadata": {},
   "outputs": [],
   "source": []
  }
 ],
 "metadata": {
  "celltoolbar": "Slideshow",
  "kernelspec": {
   "display_name": "Python 3",
   "language": "python",
   "name": "python3"
  },
  "language_info": {
   "codemirror_mode": {
    "name": "ipython",
    "version": 3
   },
   "file_extension": ".py",
   "mimetype": "text/x-python",
   "name": "python",
   "nbconvert_exporter": "python",
   "pygments_lexer": "ipython3",
   "version": "3.8.6"
  },
  "varInspector": {
   "cols": {
    "lenName": 16,
    "lenType": 16,
    "lenVar": 40
   },
   "kernels_config": {
    "python": {
     "delete_cmd_postfix": "",
     "delete_cmd_prefix": "del ",
     "library": "var_list.py",
     "varRefreshCmd": "print(var_dic_list())"
    },
    "r": {
     "delete_cmd_postfix": ") ",
     "delete_cmd_prefix": "rm(",
     "library": "var_list.r",
     "varRefreshCmd": "cat(var_dic_list()) "
    }
   },
   "types_to_exclude": [
    "module",
    "function",
    "builtin_function_or_method",
    "instance",
    "_Feature"
   ],
   "window_display": false
  }
 },
 "nbformat": 4,
 "nbformat_minor": 5
}
