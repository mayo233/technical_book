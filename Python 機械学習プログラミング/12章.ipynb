{
 "cells": [
  {
   "cell_type": "markdown",
   "id": "229ff1e0",
   "metadata": {},
   "source": [
    "# 12.3 人工ニューラルネットワークの訓練"
   ]
  },
  {
   "cell_type": "markdown",
   "id": "a8f0c722",
   "metadata": {},
   "source": [
    "# 12.3.1 ロジスティック関数を計算する\n",
    "\n",
    "- ロジスティック関数とはロジスティック回帰を使ってクラスの確率を予測するモデルの構築のこと\n",
    "<img src=\"12.3.1.png\"   width=\"450\">\n",
    "\n",
    "- フォワードプロパゲーションステップ\n",
    "- 上付き文字[i]は訓練データのインデックスを表す\n",
    "<img src=\"12.3.2.png\"   width=\"400\">\n",
    "\n",
    "- L2正則化の項\n",
    "- 過学習の度合いを下げることが可能\n",
    "<img src=\"12.3.3.png\"   width=\"400\">\n",
    "- L2正則化の項をロジスティック関数に追加した式\n",
    "<img src=\"12.3.4.png\"   width=\"500\">\n",
    "\n",
    "-3つ目の層と目的変数の活性化ユニット\n",
    "<img src=\"12.3.5.png\"   width=\"360\">\n",
    "\n",
    "- ロジスティック関数を一般化するためにコスト関数は以下のようになる\n",
    "<img src=\"12.3.6.png\"   width=\"660\">\n",
    "\n",
    "- 上付き文字[i]は訓練データセット内の特定のデータ点のインデックスを表す\n",
    "- 1つ目の列に追加した層lの全ての重みの総和を計算している\n",
    "<img src=\"12.3.7.png\"   width=\"660\">\n",
    "\n",
    "- ulは層lのユニットの個数を表しており，次の式はペナルティ項を表している\n",
    "<img src=\"12.3.8.png\"   width=\"560\">\n",
    "\n",
    "- コスト関数j(W)を最小化することが目的\n",
    "- ネットワーク内の全ての層の重みごとに，行列Wの偏微分係数を計算する必要がある\n",
    "<img src=\"12.3.9.png\"   width=\"400\">\n",
    "\n",
    "\n",
    "\n"
   ]
  },
  {
   "cell_type": "markdown",
   "id": "b104e414",
   "metadata": {},
   "source": [
    "## バックプロパゲーションアルゴリズムの説明\n",
    "\n",
    "- コスト関数を最小化するために行列Wの偏微分係数を計算できる\n",
    "- Wは複数の行列で構成されている\n",
    "- 隠れ層を1つ持つ多層パーセプトロンには，入力を"
   ]
  },
  {
   "cell_type": "markdown",
   "id": "d690f1fd",
   "metadata": {},
   "source": [
    "# 12.3.2 バックプロパゲーションに対する理解を深める\n",
    "\n"
   ]
  },
  {
   "cell_type": "code",
   "execution_count": null,
   "id": "3743a597",
   "metadata": {},
   "outputs": [],
   "source": []
  }
 ],
 "metadata": {
  "kernelspec": {
   "display_name": "Python 3",
   "language": "python",
   "name": "python3"
  },
  "language_info": {
   "codemirror_mode": {
    "name": "ipython",
    "version": 3
   },
   "file_extension": ".py",
   "mimetype": "text/x-python",
   "name": "python",
   "nbconvert_exporter": "python",
   "pygments_lexer": "ipython3",
   "version": "3.9.5"
  },
  "varInspector": {
   "cols": {
    "lenName": 16,
    "lenType": 16,
    "lenVar": 40
   },
   "kernels_config": {
    "python": {
     "delete_cmd_postfix": "",
     "delete_cmd_prefix": "del ",
     "library": "var_list.py",
     "varRefreshCmd": "print(var_dic_list())"
    },
    "r": {
     "delete_cmd_postfix": ") ",
     "delete_cmd_prefix": "rm(",
     "library": "var_list.r",
     "varRefreshCmd": "cat(var_dic_list()) "
    }
   },
   "types_to_exclude": [
    "module",
    "function",
    "builtin_function_or_method",
    "instance",
    "_Feature"
   ],
   "window_display": false
  }
 },
 "nbformat": 4,
 "nbformat_minor": 5
}
